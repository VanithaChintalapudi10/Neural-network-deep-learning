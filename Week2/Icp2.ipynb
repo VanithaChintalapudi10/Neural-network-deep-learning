{
  "nbformat": 4,
  "nbformat_minor": 0,
  "metadata": {
    "colab": {
      "provenance": []
    },
    "kernelspec": {
      "name": "python3",
      "display_name": "Python 3"
    },
    "language_info": {
      "name": "python"
    }
  },
  "cells": [
    {
      "cell_type": "code",
      "source": [
        "class Employee:\n",
        "  employee_count=0\n",
        "  def __init__(self, name, family, salary, department):\n",
        "        self.name = name\n",
        "        self.family = family\n",
        "        self.salary = salary\n",
        "        self.department = department\n",
        "        Employee.employee_count = Employee.employee_count+1\n",
        "  def average_salary(self,employees):\n",
        "    normal_salary=0\n",
        "    for i in employees:\n",
        "      normal_salary=normal_salary+i.salary\n",
        "      return normal_salary/len(employees)\n",
        "class fulltime_employee(Employee):\n",
        "  def __init__(self,name,family,salary,department):\n",
        "    Employee.__init__(self,name,family,salary,department)\n",
        "  list=[]\n",
        "  list.append(Employee('john','swift',40000,'computer science'))\n",
        "  list.append(Employee('David','Warner',60000,'computer science'))\n",
        "\n",
        "  list.append(fulltime_employee('mani','Allada',70000,'Cybersecurity'))\n",
        "  list.append(fulltime_employee('Vanitha','Chintalapudi',80000,'computer science'))\n",
        "\n",
        "  list[0].average_salary(list)\n",
        "  list[2].average_salary(list)\n",
        "  print(\"number of employees:\")\n",
        "  print(Employee.employee_count)\n"
      ],
      "metadata": {
        "colab": {
          "base_uri": "https://localhost:8080/"
        },
        "id": "uGLoG8GuEy80",
        "outputId": "7651fda8-4a43-4d2c-81da-c8e264e3682d"
      },
      "execution_count": 15,
      "outputs": [
        {
          "output_type": "stream",
          "name": "stdout",
          "text": [
            "10000.0\n",
            "25000.0\n",
            "42500.0\n",
            "62500.0\n",
            "number of employees:\n",
            "4\n"
          ]
        }
      ]
    },
    {
      "cell_type": "code",
      "source": [
        "import numpy as np\n",
        "# Create random vector of size 20 with floats between 1 and 20\n",
        "vector = np.random.uniform( 4,5,20)\n",
        "# reshaping the vector to 4 by 5\n",
        "mat = vector.reshape(4,5)\n",
        "#replace the max in each row by 0 (axis=1)\n",
        "mat[np.arange(4),mat.argmax(axis=1)]=0\n",
        "#output\n",
        "print(mat)"
      ],
      "metadata": {
        "colab": {
          "base_uri": "https://localhost:8080/"
        },
        "id": "5w3CCdPn5xze",
        "outputId": "b6d98f78-a2bc-4bf3-c3d5-4a3318e5ef69"
      },
      "execution_count": 16,
      "outputs": [
        {
          "output_type": "stream",
          "name": "stdout",
          "text": [
            "[[4.60993739 4.06896218 0.         4.18211677 4.449174  ]\n",
            " [4.04554056 0.         4.26657981 4.31296757 4.02927214]\n",
            " [4.52662385 0.         4.63076971 4.60420341 4.16916551]\n",
            " [4.70187685 4.76423694 4.60705487 4.37234034 0.        ]]\n"
          ]
        }
      ]
    },
    {
      "cell_type": "markdown",
      "source": [
        "**Video link:**\n",
        "https://drive.google.com/file/d/1dTLeIvIsVU0yR5i0Rfu3ICCOV1Qss-f8/view?usp=drive_link"
      ],
      "metadata": {
        "id": "XOOVZnPscRSi"
      }
    }
  ]
}