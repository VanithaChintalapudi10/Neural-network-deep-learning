{
  "nbformat": 4,
  "nbformat_minor": 0,
  "metadata": {
    "colab": {
      "provenance": []
    },
    "kernelspec": {
      "name": "python3",
      "display_name": "Python 3"
    },
    "language_info": {
      "name": "python"
    }
  },
  "cells": [
    {
      "cell_type": "markdown",
      "source": [],
      "metadata": {
        "id": "cJabDdKpWrSV"
      }
    },
    {
      "cell_type": "code",
      "source": [],
      "metadata": {
        "id": "GaxzptP2QAxt"
      },
      "execution_count": null,
      "outputs": []
    },
    {
      "cell_type": "code",
      "source": [
        "def string_alternative(Full_Name):\n",
        "    # Extracts every alternate character from the input string (Full_Name) using slicing\n",
        "    str = Full_Name[::2]\n",
        "    # Prints the alternate characters from the input string\n",
        "    print(\"Alternate characters:\", str)\n",
        "def fullname(First_Name, Last_Name):\n",
        "    # Combines First_Name and Last_Name with a space in between to create the full name\n",
        "    Full_Name = First_Name + \" \" + Last_Name\n",
        "    # Prints the full name\n",
        "    print(\"Full Name:\", Full_Name)\n",
        "    # Returns the full name for further processing\n",
        "    return Full_Name\n",
        "# Takes the first name as input from the user\n",
        "First_name = input(\"Enter first name: \")\n",
        "# Takes the last name as input from the user\n",
        "Last_name = input(\"Enter last name: \")\n",
        "# Calls the fullname function to create the full name and store it in Full_Name\n",
        "Full_Name = fullname(First_name, Last_name)\n",
        "# Calls the string_alternative function to display alternate characters of the full name\n",
        "string_alternative(Full_Name)\n",
        ""
      ],
      "metadata": {
        "colab": {
          "base_uri": "https://localhost:8080/"
        },
        "id": "l8I8KJjgFJYv",
        "outputId": "fb05d677-8d59-4747-9f8a-d1f456442f7e"
      },
      "execution_count": 45,
      "outputs": [
        {
          "output_type": "stream",
          "name": "stdout",
          "text": [
            "Enter first name: Vanitha\n",
            "Enter last name: Chintalapudi\n",
            "Full Name: Vanitha Chintalapudi\n",
            "Alternate characters: VntaCitlpd\n"
          ]
        }
      ]
    },
    {
      "cell_type": "code",
      "source": [
        "# Open the input file 'input.txt' in read mode\n",
        "input_file = open('input.txt', 'r')\n",
        "# Initialize an empty dictionary to store word counts\n",
        "count = dict()\n",
        "# Read the entire content of the file as a single string\n",
        "file = input_file.read()\n",
        "# Split the content into individual words using whitespace as the delimiter\n",
        "lines = file.split()\n",
        "# Loop through each word in the split content\n",
        "for word in lines:\n",
        "    # If the word is already in the dictionary, increment its count by 1\n",
        "    if word in count:\n",
        "        count[word] += 1\n",
        "    # If the word is not in the dictionary, add it with an initial count of 1\n",
        "    else:\n",
        "        count[word] = 1\n",
        "# Print the word count dictionary to the console\n",
        "print(count)\n",
        "# Open (or create) the output file 'output.txt' in write mode\n",
        "f = open('output.txt', 'w')\n",
        "# Write the original content of the input file to the output file\n",
        "f.write(file)\n",
        "# Add a new line and a header for the word count section\n",
        "f.write('\\nWordCount:\\n')\n",
        "# Write each word and its corresponding count to the output file\n",
        "for key, value in count.items():\n",
        "    # Format the word and count as \"word:count\" and write it\n",
        "    f.write(f\"{key}:{value}\\n\")\n",
        "# Close the output file after writing is complete\n",
        "f.close()\n",
        "\n"
      ],
      "metadata": {
        "colab": {
          "base_uri": "https://localhost:8080/"
        },
        "id": "LWaOLVbsQooP",
        "outputId": "622d1d5a-b9bb-405d-a5da-248011286ebb"
      },
      "execution_count": 46,
      "outputs": [
        {
          "output_type": "stream",
          "name": "stdout",
          "text": [
            "{'Python': 1, 'Course': 2, 'Deep': 1, 'Learning': 1}\n"
          ]
        }
      ]
    },
    {
      "cell_type": "code",
      "source": [
        "#Nested Interactive Loops\n",
        "\n",
        "# Initialize an empty list to store heights in inches\n",
        "height_inches = []\n",
        "# Initialize an empty list to store heights in centimeters\n",
        "height_cms = []\n",
        "# Prompt the user to enter the number of height readings\n",
        "n = int(input(\"Enter number of readings: \"))\n",
        "# Loop to take height inputs in inches and append them to the height_inches list\n",
        "for i in range(n):\n",
        "    inchheight = float(input(\"Enter height in inches: \"))  # Input height as a float\n",
        "    height_inches.append(inchheight)  # Add the input to the height_inches list\n",
        "# Print a label for the Nested Interactive Loops section\n",
        "print(\"Nested Interactive Loops\")\n",
        "# Loop through each height in the height_inches list to convert to centimeters\n",
        "for i in height_inches:\n",
        "    cmheight = i * 2.54  # Convert inches to centimeters using the conversion factor\n",
        "    height_cms.append(cmheight)  # Append the converted height to the height_cms list\n",
        "# Print the converted heights in centimeters\n",
        "print(height_cms)\n",
        "# Demonstrate the same operation using list comprehensions\n",
        "print(\"List Comprehensions\")\n",
        "# Convert the heights in one line using a list comprehension and print the result\n",
        "print([i * 2.54 for i in height_inches])\n",
        "\n"
      ],
      "metadata": {
        "colab": {
          "base_uri": "https://localhost:8080/"
        },
        "id": "rDwRNx9RUFr-",
        "outputId": "f426bab5-4689-4e16-f358-0f644a9b3543"
      },
      "execution_count": 48,
      "outputs": [
        {
          "output_type": "stream",
          "name": "stdout",
          "text": [
            "Enter number of readings: 2\n",
            "Enter height in inches: 1\n",
            "Enter height in inches: 2\n",
            "Nested Interactive Loops\n",
            "[2.54, 5.08]\n",
            "List Comprehensions\n",
            "[2.54, 5.08]\n"
          ]
        }
      ]
    }
  ]
}